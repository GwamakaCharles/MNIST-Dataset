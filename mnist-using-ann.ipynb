{
 "cells": [
  {
   "cell_type": "markdown",
   "metadata": {},
   "source": [
    "<img src=\"https://www.kaggle.com/static/images/site-logo.png\" width=\"100px\">"
   ]
  },
  {
   "cell_type": "markdown",
   "metadata": {},
   "source": [
    "**MNIST with Artificial Neural Networks**"
   ]
  },
  {
   "cell_type": "markdown",
   "metadata": {},
   "source": [
    "<img src=\"https://encrypted-tbn0.gstatic.com/images?q=tbn:ANd9GcQBeNgBeTlsnYyxHtEmAhENJwmspXjJbMuEq7uT3CvzZ7SWmh52zw\" width=\"800px\">"
   ]
  },
  {
   "cell_type": "markdown",
   "metadata": {},
   "source": [
    "**Importing Basic Libraries**"
   ]
  },
  {
   "cell_type": "code",
   "execution_count": 1,
   "metadata": {
    "_cell_guid": "b1076dfc-b9ad-4769-8c92-a6c4dae69d19",
    "_uuid": "8f2839f25d086af736a60e9eeb907d3b93b6e0e5"
   },
   "outputs": [
    {
     "name": "stdout",
     "output_type": "stream",
     "text": [
      "['mnist_train.csv', 'mnist_test.csv']\n"
     ]
    }
   ],
   "source": [
    "# for basic operations\n",
    "import numpy as np \n",
    "import pandas as pd \n",
    "\n",
    "# for providing the path\n",
    "import os\n",
    "print(os.listdir(\"../input\"))\n"
   ]
  },
  {
   "cell_type": "markdown",
   "metadata": {},
   "source": [
    "**Importing the Data**"
   ]
  },
  {
   "cell_type": "code",
   "execution_count": 2,
   "metadata": {
    "_cell_guid": "79c7e3d0-c299-4dcb-8224-4455121ee9b0",
    "_uuid": "d629ff2d2480ee46fbb7e2d37f6b5fab8052498a"
   },
   "outputs": [
    {
     "name": "stdout",
     "output_type": "stream",
     "text": [
      "(60000, 785)\n",
      "(10000, 785)\n"
     ]
    }
   ],
   "source": [
    "# reading the data\n",
    "\n",
    "train = pd.read_csv('../input/mnist_train.csv')\n",
    "test = pd.read_csv('../input/mnist_test.csv')\n",
    "\n",
    "print(train.shape)\n",
    "print(test.shape)"
   ]
  },
  {
   "cell_type": "code",
   "execution_count": 3,
   "metadata": {
    "_uuid": "a080d38dda673f2418b3679cb9b8573bd05d748b"
   },
   "outputs": [
    {
     "data": {
      "text/plain": [
       "1    6742\n",
       "7    6265\n",
       "3    6131\n",
       "2    5958\n",
       "9    5949\n",
       "0    5923\n",
       "6    5918\n",
       "8    5851\n",
       "4    5842\n",
       "5    5421\n",
       "Name: label, dtype: int64"
      ]
     },
     "execution_count": 3,
     "metadata": {},
     "output_type": "execute_result"
    }
   ],
   "source": [
    "# It has 10 digits ranging from 0-9\n",
    "\n",
    "train.iloc[:,0].value_counts()"
   ]
  },
  {
   "cell_type": "code",
   "execution_count": 4,
   "metadata": {
    "_uuid": "9ebabbc1cfaf5773dcd1da689dfe72dc7f72f31a"
   },
   "outputs": [
    {
     "name": "stdout",
     "output_type": "stream",
     "text": [
      "(60000, 784)\n",
      "(60000,)\n",
      "(10000, 784)\n",
      "(10000,)\n"
     ]
    }
   ],
   "source": [
    "# splitting the data into dependent and independent variables\n",
    "\n",
    "train_x = train.iloc[:,1:785]\n",
    "train_y = train.iloc[:,0]\n",
    "\n",
    "test_x = test.iloc[:,1:785]\n",
    "test_y = test.iloc[:,0]\n",
    "\n",
    "print(train_x.shape)\n",
    "print(train_y.shape)\n",
    "\n",
    "print(test_x.shape)\n",
    "print(test_y.shape)\n"
   ]
  },
  {
   "cell_type": "code",
   "execution_count": 5,
   "metadata": {
    "_uuid": "e3ac75d5a37736b6727855bd33243c4db9f40ea8"
   },
   "outputs": [
    {
     "name": "stdout",
     "output_type": "stream",
     "text": [
      "(45000, 784)\n",
      "(15000, 784)\n",
      "(45000,)\n",
      "(15000,)\n"
     ]
    }
   ],
   "source": [
    "# splitting the dataset into training and testing set\n",
    "\n",
    "from sklearn.model_selection import train_test_split\n",
    "\n",
    "x_train, x_cv, y_train, y_cv = train_test_split(train_x, train_y, test_size = 0.25, random_state = 35)\n",
    "\n",
    "print(x_train.shape)\n",
    "print(x_cv.shape)\n",
    "print(y_train.shape)\n",
    "print(y_cv.shape)"
   ]
  },
  {
   "cell_type": "code",
   "execution_count": 6,
   "metadata": {
    "_uuid": "debe22e58576bb898339c28b7bdc94bca474e9e8"
   },
   "outputs": [],
   "source": [
    "# reshaping them as matrix\n",
    "\n",
    "x_train = np.asmatrix(x_train).reshape(45000, 784)\n",
    "x_cv = np.asmatrix(x_cv).reshape(15000, 784)\n",
    "\n",
    "test_x = np.asmatrix(test_x).reshape(10000, 784)"
   ]
  },
  {
   "cell_type": "code",
   "execution_count": 7,
   "metadata": {
    "_uuid": "169ddd2d95f3c35624879b49ffe7b8dd3613ca4a"
   },
   "outputs": [],
   "source": [
    "# feature normalization\n",
    "\n",
    "x_train = x_train.astype('float32')\n",
    "x_cv = x_cv.astype('float32')\n",
    "\n",
    "test_x = test_x.astype('float32')\n",
    "\n",
    "x_train = x_train/255\n",
    "x_cv = x_cv/255\n",
    "test_x = test_x/255"
   ]
  },
  {
   "cell_type": "code",
   "execution_count": 8,
   "metadata": {
    "_uuid": "7398563b57fc74a4e79b2ed81c74e7771183fb53"
   },
   "outputs": [
    {
     "name": "stderr",
     "output_type": "stream",
     "text": [
      "Using TensorFlow backend.\n"
     ]
    }
   ],
   "source": [
    "# converting the labels into one hot encoding\n",
    "\n",
    "# immporting keras \n",
    "import keras\n",
    "\n",
    "digits = 10\n",
    "y_train = keras.utils.to_categorical(y_train, digits)\n",
    "y_cv = keras.utils.to_categorical(y_cv, digits)\n",
    "\n"
   ]
  },
  {
   "cell_type": "code",
   "execution_count": 9,
   "metadata": {
    "_uuid": "7ca38982c77d71324252f745064276a0ddd6a895"
   },
   "outputs": [
    {
     "name": "stdout",
     "output_type": "stream",
     "text": [
      "[0. 0. 0. 0. 0. 0. 1. 0. 0. 0.]\n",
      "[0. 1. 0. 0. 0. 0. 0. 0. 0. 0.]\n",
      "[0. 0. 0. 1. 0. 0. 0. 0. 0. 0.]\n"
     ]
    }
   ],
   "source": [
    "# viewing the labels after one hot encoding\n",
    "\n",
    "print(y_train[0])  #7\n",
    "print(y_train[3])  #2\n",
    "print(y_train[4])  #4"
   ]
  },
  {
   "cell_type": "markdown",
   "metadata": {},
   "source": [
    "**Modelling with Artificial Neural Networks**"
   ]
  },
  {
   "cell_type": "code",
   "execution_count": 10,
   "metadata": {
    "_uuid": "e10e2caf9381ee54f2595899321cea9f0099ec5d"
   },
   "outputs": [],
   "source": [
    "# ARTIFICIAL NEURAL NETWORKS\n",
    "\n",
    "import keras \n",
    "from keras.layers import Dense \n",
    "from keras.models import Sequential\n",
    "from keras import optimizers"
   ]
  },
  {
   "cell_type": "markdown",
   "metadata": {},
   "source": [
    "<img src=\"https://icdn5.digitaltrends.com/image/artificial_neural_network_1-791x388.jpg\" width=\"1000px\">"
   ]
  },
  {
   "cell_type": "code",
   "execution_count": 11,
   "metadata": {
    "_uuid": "b2a01fbe5af6d05c5ad51141e07c8a2bfb8c2688"
   },
   "outputs": [
    {
     "name": "stdout",
     "output_type": "stream",
     "text": [
      "WARNING:tensorflow:From /opt/conda/lib/python3.6/site-packages/tensorflow/python/framework/op_def_library.py:263: colocate_with (from tensorflow.python.framework.ops) is deprecated and will be removed in a future version.\n",
      "Instructions for updating:\n",
      "Colocations handled automatically by placer.\n"
     ]
    },
    {
     "name": "stderr",
     "output_type": "stream",
     "text": [
      "/opt/conda/lib/python3.6/site-packages/ipykernel_launcher.py:5: UserWarning: Update your `Dense` call to the Keras 2 API: `Dense(activation=\"relu\", input_dim=784, units=400, kernel_initializer=\"uniform\")`\n",
      "  \"\"\"\n",
      "/opt/conda/lib/python3.6/site-packages/ipykernel_launcher.py:8: UserWarning: Update your `Dense` call to the Keras 2 API: `Dense(activation=\"relu\", units=300, kernel_initializer=\"uniform\")`\n",
      "  \n",
      "/opt/conda/lib/python3.6/site-packages/ipykernel_launcher.py:11: UserWarning: Update your `Dense` call to the Keras 2 API: `Dense(activation=\"relu\", units=300, kernel_initializer=\"uniform\")`\n",
      "  # This is added back by InteractiveShellApp.init_path()\n",
      "/opt/conda/lib/python3.6/site-packages/ipykernel_launcher.py:14: UserWarning: Update your `Dense` call to the Keras 2 API: `Dense(activation=\"relu\", units=300, kernel_initializer=\"uniform\")`\n",
      "  \n",
      "/opt/conda/lib/python3.6/site-packages/ipykernel_launcher.py:17: UserWarning: Update your `Dense` call to the Keras 2 API: `Dense(activation=\"relu\", units=100, kernel_initializer=\"uniform\")`\n",
      "/opt/conda/lib/python3.6/site-packages/ipykernel_launcher.py:22: UserWarning: Update your `Dense` call to the Keras 2 API: `Dense(activation=\"softmax\", units=10, kernel_initializer=\"uniform\")`\n"
     ]
    }
   ],
   "source": [
    "# creating the model\n",
    "model = Sequential()\n",
    "\n",
    "# first hidden layer\n",
    "model.add(Dense(output_dim = 400, init = 'uniform', activation = 'relu', input_dim = 784))\n",
    "\n",
    "# second hidden layer\n",
    "model.add(Dense(output_dim = 300, init = 'uniform', activation = 'relu'))\n",
    "\n",
    "# third hidden layer\n",
    "model.add(Dense(output_dim = 300, init = 'uniform', activation = 'relu'))\n",
    "\n",
    "# fourth hidden layer\n",
    "model.add(Dense(output_dim = 300, init = 'uniform', activation = 'relu'))\n",
    "\n",
    "# fifth hidden layer\n",
    "model.add(Dense(output_dim = 100, init = 'uniform', activation = 'relu'))\n",
    "\n",
    "# output layer\n",
    "# output_dim = no. of digits\n",
    "# softmax activation function is used for multiple outputs\n",
    "model.add(Dense(output_dim = 10, init = 'uniform', activation = 'softmax'))"
   ]
  },
  {
   "cell_type": "markdown",
   "metadata": {},
   "source": [
    "**Model Summary**"
   ]
  },
  {
   "cell_type": "code",
   "execution_count": 12,
   "metadata": {
    "_uuid": "a64124d689780a267512bfcc5f3cb96c4b72a3e3"
   },
   "outputs": [
    {
     "name": "stdout",
     "output_type": "stream",
     "text": [
      "_________________________________________________________________\n",
      "Layer (type)                 Output Shape              Param #   \n",
      "=================================================================\n",
      "dense_1 (Dense)              (None, 400)               314000    \n",
      "_________________________________________________________________\n",
      "dense_2 (Dense)              (None, 300)               120300    \n",
      "_________________________________________________________________\n",
      "dense_3 (Dense)              (None, 300)               90300     \n",
      "_________________________________________________________________\n",
      "dense_4 (Dense)              (None, 300)               90300     \n",
      "_________________________________________________________________\n",
      "dense_5 (Dense)              (None, 100)               30100     \n",
      "_________________________________________________________________\n",
      "dense_6 (Dense)              (None, 10)                1010      \n",
      "=================================================================\n",
      "Total params: 646,010\n",
      "Trainable params: 646,010\n",
      "Non-trainable params: 0\n",
      "_________________________________________________________________\n"
     ]
    }
   ],
   "source": [
    "# looking at the model summary\n",
    "\n",
    "model.summary()"
   ]
  },
  {
   "cell_type": "code",
   "execution_count": 13,
   "metadata": {
    "_uuid": "1346bfc9f82dd362cea59efd173fc8a86c437a2f"
   },
   "outputs": [
    {
     "name": "stdout",
     "output_type": "stream",
     "text": [
      "WARNING:tensorflow:From /opt/conda/lib/python3.6/site-packages/tensorflow/python/ops/math_ops.py:3066: to_int32 (from tensorflow.python.ops.math_ops) is deprecated and will be removed in a future version.\n",
      "Instructions for updating:\n",
      "Use tf.cast instead.\n",
      "Train on 45000 samples, validate on 15000 samples\n",
      "Epoch 1/60\n",
      " - 7s - loss: 2.3020 - acc: 0.1097 - val_loss: 2.3014 - val_acc: 0.1129\n",
      "Epoch 2/60\n",
      " - 7s - loss: 2.3012 - acc: 0.1122 - val_loss: 2.3008 - val_acc: 0.1129\n",
      "Epoch 3/60\n",
      " - 7s - loss: 2.3008 - acc: 0.1122 - val_loss: 2.3005 - val_acc: 0.1129\n",
      "Epoch 4/60\n",
      " - 7s - loss: 2.3005 - acc: 0.1122 - val_loss: 2.3002 - val_acc: 0.1129\n",
      "Epoch 5/60\n",
      " - 7s - loss: 2.3001 - acc: 0.1122 - val_loss: 2.2998 - val_acc: 0.1129\n",
      "Epoch 6/60\n",
      " - 7s - loss: 2.2997 - acc: 0.1122 - val_loss: 2.2993 - val_acc: 0.1129\n",
      "Epoch 7/60\n",
      " - 7s - loss: 2.2992 - acc: 0.1122 - val_loss: 2.2987 - val_acc: 0.1129\n",
      "Epoch 8/60\n",
      " - 7s - loss: 2.2984 - acc: 0.1122 - val_loss: 2.2977 - val_acc: 0.1129\n",
      "Epoch 9/60\n",
      " - 7s - loss: 2.2972 - acc: 0.1122 - val_loss: 2.2962 - val_acc: 0.1129\n",
      "Epoch 10/60\n",
      " - 7s - loss: 2.2952 - acc: 0.1122 - val_loss: 2.2936 - val_acc: 0.1129\n",
      "Epoch 11/60\n",
      " - 7s - loss: 2.2914 - acc: 0.1123 - val_loss: 2.2880 - val_acc: 0.1153\n",
      "Epoch 12/60\n",
      " - 7s - loss: 2.2815 - acc: 0.1645 - val_loss: 2.2708 - val_acc: 0.2047\n",
      "Epoch 13/60\n",
      " - 7s - loss: 2.2276 - acc: 0.2120 - val_loss: 2.1372 - val_acc: 0.2309\n",
      "Epoch 14/60\n",
      " - 7s - loss: 1.9959 - acc: 0.2874 - val_loss: 1.8088 - val_acc: 0.3788\n",
      "Epoch 15/60\n",
      " - 7s - loss: 1.5380 - acc: 0.4770 - val_loss: 1.2442 - val_acc: 0.5817\n",
      "Epoch 16/60\n",
      " - 7s - loss: 1.0086 - acc: 0.6546 - val_loss: 0.8077 - val_acc: 0.7374\n",
      "Epoch 17/60\n",
      " - 7s - loss: 0.6818 - acc: 0.7854 - val_loss: 0.5830 - val_acc: 0.8229\n",
      "Epoch 18/60\n",
      " - 7s - loss: 0.5370 - acc: 0.8382 - val_loss: 0.4845 - val_acc: 0.8585\n",
      "Epoch 19/60\n",
      " - 7s - loss: 0.4667 - acc: 0.8632 - val_loss: 0.4272 - val_acc: 0.8791\n",
      "Epoch 20/60\n",
      " - 7s - loss: 0.4081 - acc: 0.8823 - val_loss: 0.3861 - val_acc: 0.8899\n",
      "Epoch 21/60\n",
      " - 7s - loss: 0.3610 - acc: 0.8968 - val_loss: 0.3399 - val_acc: 0.9068\n",
      "Epoch 22/60\n",
      " - 7s - loss: 0.3185 - acc: 0.9106 - val_loss: 0.3086 - val_acc: 0.9147\n",
      "Epoch 23/60\n",
      " - 7s - loss: 0.2825 - acc: 0.9196 - val_loss: 0.2795 - val_acc: 0.9235\n",
      "Epoch 24/60\n",
      " - 7s - loss: 0.2517 - acc: 0.9280 - val_loss: 0.2552 - val_acc: 0.9287\n",
      "Epoch 25/60\n",
      " - 7s - loss: 0.2245 - acc: 0.9371 - val_loss: 0.2344 - val_acc: 0.9361\n",
      "Epoch 26/60\n",
      " - 8s - loss: 0.2004 - acc: 0.9438 - val_loss: 0.2158 - val_acc: 0.9398\n",
      "Epoch 27/60\n",
      " - 7s - loss: 0.1814 - acc: 0.9486 - val_loss: 0.2047 - val_acc: 0.9437\n",
      "Epoch 28/60\n",
      " - 7s - loss: 0.1648 - acc: 0.9538 - val_loss: 0.1943 - val_acc: 0.9455\n",
      "Epoch 29/60\n",
      " - 7s - loss: 0.1514 - acc: 0.9577 - val_loss: 0.1842 - val_acc: 0.9489\n",
      "Epoch 30/60\n",
      " - 7s - loss: 0.1368 - acc: 0.9620 - val_loss: 0.1811 - val_acc: 0.9499\n",
      "Epoch 31/60\n",
      " - 7s - loss: 0.1272 - acc: 0.9639 - val_loss: 0.1884 - val_acc: 0.9479\n",
      "Epoch 32/60\n",
      " - 8s - loss: 0.1177 - acc: 0.9670 - val_loss: 0.1740 - val_acc: 0.9505\n",
      "Epoch 33/60\n",
      " - 7s - loss: 0.1095 - acc: 0.9692 - val_loss: 0.1726 - val_acc: 0.9519\n",
      "Epoch 34/60\n",
      " - 7s - loss: 0.1009 - acc: 0.9712 - val_loss: 0.1572 - val_acc: 0.9568\n",
      "Epoch 35/60\n",
      " - 7s - loss: 0.0930 - acc: 0.9739 - val_loss: 0.1558 - val_acc: 0.9573\n",
      "Epoch 36/60\n",
      " - 7s - loss: 0.0872 - acc: 0.9751 - val_loss: 0.1520 - val_acc: 0.9583\n",
      "Epoch 37/60\n",
      " - 7s - loss: 0.0801 - acc: 0.9778 - val_loss: 0.1656 - val_acc: 0.9549\n",
      "Epoch 38/60\n",
      " - 7s - loss: 0.0748 - acc: 0.9787 - val_loss: 0.1517 - val_acc: 0.9583\n",
      "Epoch 39/60\n",
      " - 7s - loss: 0.0690 - acc: 0.9804 - val_loss: 0.1612 - val_acc: 0.9579\n",
      "Epoch 40/60\n",
      " - 7s - loss: 0.0635 - acc: 0.9822 - val_loss: 0.1448 - val_acc: 0.9609\n",
      "Epoch 41/60\n",
      " - 7s - loss: 0.0593 - acc: 0.9840 - val_loss: 0.1521 - val_acc: 0.9590\n",
      "Epoch 42/60\n",
      " - 7s - loss: 0.0550 - acc: 0.9849 - val_loss: 0.1597 - val_acc: 0.9595\n",
      "Epoch 43/60\n",
      " - 7s - loss: 0.0496 - acc: 0.9870 - val_loss: 0.1452 - val_acc: 0.9611\n",
      "Epoch 44/60\n",
      " - 7s - loss: 0.0474 - acc: 0.9874 - val_loss: 0.1486 - val_acc: 0.9610\n",
      "Epoch 45/60\n",
      " - 7s - loss: 0.0432 - acc: 0.9887 - val_loss: 0.1471 - val_acc: 0.9625\n",
      "Epoch 46/60\n",
      " - 7s - loss: 0.0406 - acc: 0.9894 - val_loss: 0.1447 - val_acc: 0.9628\n",
      "Epoch 47/60\n",
      " - 7s - loss: 0.0356 - acc: 0.9913 - val_loss: 0.1466 - val_acc: 0.9617\n",
      "Epoch 48/60\n",
      " - 7s - loss: 0.0333 - acc: 0.9918 - val_loss: 0.1450 - val_acc: 0.9637\n",
      "Epoch 49/60\n",
      " - 7s - loss: 0.0310 - acc: 0.9924 - val_loss: 0.1439 - val_acc: 0.9649\n",
      "Epoch 50/60\n",
      " - 7s - loss: 0.0283 - acc: 0.9936 - val_loss: 0.1453 - val_acc: 0.9643\n",
      "Epoch 51/60\n",
      " - 7s - loss: 0.0259 - acc: 0.9944 - val_loss: 0.1587 - val_acc: 0.9624\n",
      "Epoch 52/60\n",
      " - 7s - loss: 0.0244 - acc: 0.9942 - val_loss: 0.1574 - val_acc: 0.9627\n",
      "Epoch 53/60\n",
      " - 7s - loss: 0.0209 - acc: 0.9958 - val_loss: 0.1569 - val_acc: 0.9610\n",
      "Epoch 54/60\n",
      " - 7s - loss: 0.0202 - acc: 0.9957 - val_loss: 0.1506 - val_acc: 0.9639\n",
      "Epoch 55/60\n",
      " - 7s - loss: 0.0181 - acc: 0.9967 - val_loss: 0.1596 - val_acc: 0.9637\n",
      "Epoch 56/60\n",
      " - 7s - loss: 0.0158 - acc: 0.9973 - val_loss: 0.1608 - val_acc: 0.9636\n",
      "Epoch 57/60\n",
      " - 7s - loss: 0.0145 - acc: 0.9975 - val_loss: 0.1627 - val_acc: 0.9628\n",
      "Epoch 58/60\n",
      " - 7s - loss: 0.0134 - acc: 0.9977 - val_loss: 0.1597 - val_acc: 0.9643\n",
      "Epoch 59/60\n",
      " - 7s - loss: 0.0123 - acc: 0.9981 - val_loss: 0.1588 - val_acc: 0.9650\n",
      "Epoch 60/60\n",
      " - 7s - loss: 0.0107 - acc: 0.9985 - val_loss: 0.1642 - val_acc: 0.9641\n"
     ]
    },
    {
     "data": {
      "text/plain": [
       "<keras.callbacks.History at 0x7ff57404f860>"
      ]
     },
     "execution_count": 13,
     "metadata": {},
     "output_type": "execute_result"
    }
   ],
   "source": [
    "# setting the learning rate\n",
    "learning_rate = 0.01\n",
    "sgd = optimizers.SGD(lr = learning_rate)\n",
    "\n",
    "\n",
    "# compiling the model\n",
    "# using the plain vanilla stochastic gradient descent as our optimizing technique\n",
    "# using categorical cross entropy for multiple outputs\n",
    "model.compile(optimizer = 'sgd', loss = 'categorical_crossentropy', metrics = ['accuracy'])\n",
    "\n",
    "# feeding the training data to the model\n",
    "model.fit(x_train, y_train, batch_size = 100, epochs = 60, verbose = 2, validation_data = (x_cv, y_cv))"
   ]
  },
  {
   "cell_type": "code",
   "execution_count": 14,
   "metadata": {
    "_uuid": "d935f13ab91742f00ce53ceab5e29603d8e4e854"
   },
   "outputs": [
    {
     "name": "stdout",
     "output_type": "stream",
     "text": [
      "_________________________________________________________________\n",
      "Layer (type)                 Output Shape              Param #   \n",
      "=================================================================\n",
      "dense_1 (Dense)              (None, 400)               314000    \n",
      "_________________________________________________________________\n",
      "dense_2 (Dense)              (None, 300)               120300    \n",
      "_________________________________________________________________\n",
      "dense_3 (Dense)              (None, 300)               90300     \n",
      "_________________________________________________________________\n",
      "dense_4 (Dense)              (None, 300)               90300     \n",
      "_________________________________________________________________\n",
      "dense_5 (Dense)              (None, 100)               30100     \n",
      "_________________________________________________________________\n",
      "dense_6 (Dense)              (None, 10)                1010      \n",
      "=================================================================\n",
      "Total params: 646,010\n",
      "Trainable params: 646,010\n",
      "Non-trainable params: 0\n",
      "_________________________________________________________________\n"
     ]
    }
   ],
   "source": [
    "# looking at the model summary\n",
    "\n",
    "model.summary()"
   ]
  },
  {
   "cell_type": "code",
   "execution_count": 15,
   "metadata": {
    "_uuid": "54ffd5d4b713140e68b150d66d52b63013600904"
   },
   "outputs": [
    {
     "name": "stdout",
     "output_type": "stream",
     "text": [
      "Train on 45000 samples, validate on 15000 samples\n",
      "Epoch 1/20\n",
      " - 8s - loss: 0.1505 - acc: 0.9600 - val_loss: 0.1826 - val_acc: 0.9495\n",
      "Epoch 2/20\n",
      " - 8s - loss: 0.0821 - acc: 0.9737 - val_loss: 0.1450 - val_acc: 0.9603\n",
      "Epoch 3/20\n",
      " - 8s - loss: 0.0657 - acc: 0.9797 - val_loss: 0.1425 - val_acc: 0.9611\n",
      "Epoch 4/20\n",
      " - 8s - loss: 0.0592 - acc: 0.9812 - val_loss: 0.1370 - val_acc: 0.9647\n",
      "Epoch 5/20\n",
      " - 8s - loss: 0.0469 - acc: 0.9850 - val_loss: 0.1130 - val_acc: 0.9701\n",
      "Epoch 6/20\n",
      " - 8s - loss: 0.0408 - acc: 0.9872 - val_loss: 0.1246 - val_acc: 0.9691\n",
      "Epoch 7/20\n",
      " - 8s - loss: 0.0392 - acc: 0.9875 - val_loss: 0.1574 - val_acc: 0.9611\n",
      "Epoch 8/20\n",
      " - 8s - loss: 0.0352 - acc: 0.9889 - val_loss: 0.1198 - val_acc: 0.9696\n",
      "Epoch 9/20\n",
      " - 9s - loss: 0.0337 - acc: 0.9901 - val_loss: 0.1259 - val_acc: 0.9709\n",
      "Epoch 10/20\n",
      " - 8s - loss: 0.0285 - acc: 0.9909 - val_loss: 0.1246 - val_acc: 0.9706\n",
      "Epoch 11/20\n",
      " - 8s - loss: 0.0257 - acc: 0.9922 - val_loss: 0.1301 - val_acc: 0.9705\n",
      "Epoch 12/20\n",
      " - 8s - loss: 0.0256 - acc: 0.9919 - val_loss: 0.1224 - val_acc: 0.9704\n",
      "Epoch 13/20\n",
      " - 8s - loss: 0.0240 - acc: 0.9926 - val_loss: 0.1190 - val_acc: 0.9724\n",
      "Epoch 14/20\n",
      " - 8s - loss: 0.0203 - acc: 0.9939 - val_loss: 0.1406 - val_acc: 0.9716\n",
      "Epoch 15/20\n",
      " - 8s - loss: 0.0199 - acc: 0.9942 - val_loss: 0.1179 - val_acc: 0.9750\n",
      "Epoch 16/20\n",
      " - 8s - loss: 0.0186 - acc: 0.9944 - val_loss: 0.1272 - val_acc: 0.9730\n",
      "Epoch 17/20\n",
      " - 8s - loss: 0.0184 - acc: 0.9944 - val_loss: 0.1418 - val_acc: 0.9710\n",
      "Epoch 18/20\n",
      " - 8s - loss: 0.0183 - acc: 0.9945 - val_loss: 0.1319 - val_acc: 0.9753\n",
      "Epoch 19/20\n",
      " - 8s - loss: 0.0161 - acc: 0.9952 - val_loss: 0.1284 - val_acc: 0.9727\n",
      "Epoch 20/20\n",
      " - 8s - loss: 0.0157 - acc: 0.9952 - val_loss: 0.1308 - val_acc: 0.9746\n"
     ]
    },
    {
     "data": {
      "text/plain": [
       "<keras.callbacks.History at 0x7ff52036e358>"
      ]
     },
     "execution_count": 15,
     "metadata": {},
     "output_type": "execute_result"
    }
   ],
   "source": [
    "# setting the learning rate\n",
    "learning_rate = 0.01\n",
    "adam = optimizers.Adam(lr = learning_rate)\n",
    "\n",
    "\n",
    "# compiling the model\n",
    "# using the plain vanilla stochastic gradient descent as our optimizing technique\n",
    "# using categorical cross entropy for multiple outputs\n",
    "model.compile(optimizer = 'adam', loss = 'categorical_crossentropy', metrics = ['accuracy'])\n",
    "\n",
    "# feeding the training data to the model\n",
    "model.fit(x_train, y_train, batch_size = 100, epochs = 20, verbose = 2, validation_data = (x_cv, y_cv))"
   ]
  },
  {
   "cell_type": "markdown",
   "metadata": {},
   "source": [
    "**Thanks for Reading the Kernel, Please upvote if you like.**"
   ]
  }
 ],
 "metadata": {
  "kernelspec": {
   "display_name": "Python 3",
   "language": "python",
   "name": "python3"
  },
  "language_info": {
   "codemirror_mode": {
    "name": "ipython",
    "version": 3
   },
   "file_extension": ".py",
   "mimetype": "text/x-python",
   "name": "python",
   "nbconvert_exporter": "python",
   "pygments_lexer": "ipython3",
   "version": "3.6.6"
  }
 },
 "nbformat": 4,
 "nbformat_minor": 1
}
